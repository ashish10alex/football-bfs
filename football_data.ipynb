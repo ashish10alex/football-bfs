{
 "cells": [
  {
   "cell_type": "code",
   "execution_count": 1,
   "metadata": {},
   "outputs": [],
   "source": [
    "import json\n",
    "import os\n",
    "\n",
    "import pandas as pd\n",
    "import requests\n",
    "from bs4 import BeautifulSoup\n",
    "from tqdm import tqdm\n",
    "import concurrent.futures\n"
   ]
  },
  {
   "cell_type": "code",
   "execution_count": 274,
   "metadata": {},
   "outputs": [],
   "source": [
    "# df = pd.read_csv('data/players_15.csv')\n",
    "df = pd.read_csv('data/players_20.csv')"
   ]
  },
  {
   "cell_type": "code",
   "execution_count": 275,
   "metadata": {},
   "outputs": [],
   "source": [
    "player_urls = list(df['player_url'])"
   ]
  },
  {
   "cell_type": "code",
   "execution_count": 276,
   "metadata": {},
   "outputs": [],
   "source": [
    "player_urls_new = []"
   ]
  },
  {
   "cell_type": "code",
   "execution_count": 277,
   "metadata": {},
   "outputs": [],
   "source": [
    "for url in player_urls:\n",
    "    new_url = '/'.join(url.split('/')[:-2]) + '/live'\n",
    "    player_urls_new.append(new_url)\n",
    "df['player_urls_new'] = player_urls_new"
   ]
  },
  {
   "cell_type": "code",
   "execution_count": 278,
   "metadata": {},
   "outputs": [
    {
     "data": {
      "text/plain": [
       "'https://sofifa.com/player/201024/kalidou-koulibaly/live'"
      ]
     },
     "execution_count": 278,
     "metadata": {},
     "output_type": "execute_result"
    }
   ],
   "source": [
    "df['player_urls_new'][11]"
   ]
  },
  {
   "cell_type": "code",
   "execution_count": 279,
   "metadata": {},
   "outputs": [],
   "source": [
    "def get_teams_player_played_for(player_url, idx):\n",
    "    page_html = requests.get(player_url).content\n",
    "    page_html_soup = BeautifulSoup(page_html, 'html.parser')\n",
    "    teams_table = page_html_soup.find_all(class_='team')\n",
    "    teams = set()\n",
    "    for item in teams_table[2:]:\n",
    "        teams.add(item.text)\n",
    "#     print(df['long_name'][idx]), print(teams)\n",
    "    return df['long_name'][idx],  list(teams)\n",
    "#     return teams"
   ]
  },
  {
   "cell_type": "code",
   "execution_count": 281,
   "metadata": {},
   "outputs": [
    {
     "data": {
      "text/plain": [
       "('Kalidou Koulibaly', ['Genk', 'Metz II', 'Napoli', 'Metz'])"
      ]
     },
     "execution_count": 281,
     "metadata": {},
     "output_type": "execute_result"
    }
   ],
   "source": [
    "# test get_teams_player_played_for function\n",
    "idx = 11\n",
    "result= get_teams_player_played_for(df['player_urls_new'][idx], idx)\n",
    "result"
   ]
  },
  {
   "cell_type": "code",
   "execution_count": 215,
   "metadata": {},
   "outputs": [],
   "source": [
    "#sequential \n",
    "# player_teams_played_for = []\n",
    "# for idx, url in tqdm(enumerate(player_urls_new[:30])):\n",
    "#     teams = get_teams_player_played_for(url, idx)\n",
    "#     player_teams_played_for.append(teams)\n",
    "# df['player_teams_played_for'] =  player_teams_played_for \n",
    "    "
   ]
  },
  {
   "cell_type": "code",
   "execution_count": null,
   "metadata": {},
   "outputs": [],
   "source": []
  },
  {
   "cell_type": "code",
   "execution_count": 268,
   "metadata": {},
   "outputs": [
    {
     "name": "stderr",
     "output_type": "stream",
     "text": [
      "800it [00:00, 6323.42it/s]\n",
      "Some characters could not be decoded, and were replaced with REPLACEMENT CHARACTER.\n"
     ]
    }
   ],
   "source": [
    "#parallel computation using threads\n",
    "with concurrent.futures.ThreadPoolExecutor() as executor:\n",
    "    results = []\n",
    "    for idx, url in tqdm(enumerate(player_urls_new[:800])):\n",
    "        results.append(executor.submit(get_teams_player_played_for, url, idx))\n",
    "    final_results = []\n",
    "    for f in concurrent.futures.as_completed(results):\n",
    "        final_results.append(f.result())"
   ]
  },
  {
   "cell_type": "code",
   "execution_count": 269,
   "metadata": {},
   "outputs": [],
   "source": [
    "df_small = pd.DataFrame(columns=['player', 'teams'])"
   ]
  },
  {
   "cell_type": "code",
   "execution_count": 270,
   "metadata": {},
   "outputs": [],
   "source": [
    "player_names = []\n",
    "player_teams = []\n",
    "for data in final_results:\n",
    "    player_name, teams = data\n",
    "    player_names.append(player_name)\n",
    "    player_teams.append(teams)\n",
    "\n",
    "df_small['player'] = player_names\n",
    "df_small['teams']  = player_teams\n",
    "df_small.to_pickle('data/data_small.pkl')\n",
    "df_small.to_csv('data/data_small.csv')"
   ]
  },
  {
   "cell_type": "code",
   "execution_count": 271,
   "metadata": {},
   "outputs": [
    {
     "data": {
      "text/plain": [
       "('Gareth Frank Bale',\n",
       " ['Tottenham Hotspur', 'Real Madrid', 'Tottenham', 'Southampton'])"
      ]
     },
     "execution_count": 271,
     "metadata": {},
     "output_type": "execute_result"
    }
   ],
   "source": [
    "idx = 11\n",
    "df_small.iloc[idx]['player'], df_small.iloc[idx]['teams']"
   ]
  },
  {
   "cell_type": "code",
   "execution_count": 273,
   "metadata": {},
   "outputs": [],
   "source": []
  },
  {
   "cell_type": "code",
   "execution_count": null,
   "metadata": {},
   "outputs": [],
   "source": []
  },
  {
   "cell_type": "code",
   "execution_count": null,
   "metadata": {},
   "outputs": [],
   "source": []
  }
 ],
 "metadata": {
  "kernelspec": {
   "display_name": "Python 3",
   "language": "python",
   "name": "python3"
  },
  "language_info": {
   "codemirror_mode": {
    "name": "ipython",
    "version": 3
   },
   "file_extension": ".py",
   "mimetype": "text/x-python",
   "name": "python",
   "nbconvert_exporter": "python",
   "pygments_lexer": "ipython3",
   "version": "3.7.10"
  }
 },
 "nbformat": 4,
 "nbformat_minor": 4
}
