{
 "cells": [
  {
   "cell_type": "code",
   "execution_count": 1,
   "id": "8549953b",
   "metadata": {},
   "outputs": [],
   "source": [
    "import os\n",
    "import pandas as pd\n",
    "import requests\n",
    "from tqdm import tqdm"
   ]
  },
  {
   "cell_type": "code",
   "execution_count": 2,
   "id": "36e865c8",
   "metadata": {},
   "outputs": [],
   "source": [
    "df = pd.read_csv('../data/FIFA22_official_data.csv', usecols=[\"Id\", \"Name\", \"PlayerPhoto\", \"CountryFlag\", \"ClubLogo\", \"Overall\"])"
   ]
  },
  {
   "cell_type": "code",
   "execution_count": 3,
   "id": "eb0832f4",
   "metadata": {},
   "outputs": [],
   "source": [
    "df = df.sort_values(\"Overall\", ascending=False).reset_index()"
   ]
  },
  {
   "cell_type": "code",
   "execution_count": 4,
   "id": "b64aa0ce",
   "metadata": {},
   "outputs": [
    {
     "data": {
      "text/html": [
       "<div>\n",
       "<style scoped>\n",
       "    .dataframe tbody tr th:only-of-type {\n",
       "        vertical-align: middle;\n",
       "    }\n",
       "\n",
       "    .dataframe tbody tr th {\n",
       "        vertical-align: top;\n",
       "    }\n",
       "\n",
       "    .dataframe thead th {\n",
       "        text-align: right;\n",
       "    }\n",
       "</style>\n",
       "<table border=\"1\" class=\"dataframe\">\n",
       "  <thead>\n",
       "    <tr style=\"text-align: right;\">\n",
       "      <th></th>\n",
       "      <th>index</th>\n",
       "      <th>Id</th>\n",
       "      <th>Name</th>\n",
       "      <th>PlayerPhoto</th>\n",
       "      <th>CountryFlag</th>\n",
       "      <th>Overall</th>\n",
       "      <th>ClubLogo</th>\n",
       "    </tr>\n",
       "  </thead>\n",
       "  <tbody>\n",
       "    <tr>\n",
       "      <th>0</th>\n",
       "      <td>0</td>\n",
       "      <td>158023</td>\n",
       "      <td>L. Messi</td>\n",
       "      <td>https://cdn.sofifa.com/players/158/023/22_60.png</td>\n",
       "      <td>https://cdn.sofifa.com/flags/ar.png</td>\n",
       "      <td>93</td>\n",
       "      <td>https://cdn.sofifa.com/teams/73/30.png</td>\n",
       "    </tr>\n",
       "    <tr>\n",
       "      <th>1</th>\n",
       "      <td>1</td>\n",
       "      <td>188545</td>\n",
       "      <td>R. Lewandowski</td>\n",
       "      <td>https://cdn.sofifa.com/players/188/545/22_60.png</td>\n",
       "      <td>https://cdn.sofifa.com/flags/pl.png</td>\n",
       "      <td>92</td>\n",
       "      <td>https://cdn.sofifa.com/teams/21/30.png</td>\n",
       "    </tr>\n",
       "    <tr>\n",
       "      <th>2</th>\n",
       "      <td>2</td>\n",
       "      <td>192985</td>\n",
       "      <td>K. De Bruyne</td>\n",
       "      <td>https://cdn.sofifa.com/players/192/985/22_60.png</td>\n",
       "      <td>https://cdn.sofifa.com/flags/be.png</td>\n",
       "      <td>91</td>\n",
       "      <td>https://cdn.sofifa.com/teams/10/30.png</td>\n",
       "    </tr>\n",
       "    <tr>\n",
       "      <th>3</th>\n",
       "      <td>3</td>\n",
       "      <td>20801</td>\n",
       "      <td>Cristiano Ronaldo</td>\n",
       "      <td>https://cdn.sofifa.com/players/020/801/22_60.png</td>\n",
       "      <td>https://cdn.sofifa.com/flags/pt.png</td>\n",
       "      <td>91</td>\n",
       "      <td>https://cdn.sofifa.com/teams/11/30.png</td>\n",
       "    </tr>\n",
       "    <tr>\n",
       "      <th>4</th>\n",
       "      <td>4</td>\n",
       "      <td>190871</td>\n",
       "      <td>Neymar Jr</td>\n",
       "      <td>https://cdn.sofifa.com/players/190/871/22_60.png</td>\n",
       "      <td>https://cdn.sofifa.com/flags/br.png</td>\n",
       "      <td>91</td>\n",
       "      <td>https://cdn.sofifa.com/teams/73/30.png</td>\n",
       "    </tr>\n",
       "    <tr>\n",
       "      <th>...</th>\n",
       "      <td>...</td>\n",
       "      <td>...</td>\n",
       "      <td>...</td>\n",
       "      <td>...</td>\n",
       "      <td>...</td>\n",
       "      <td>...</td>\n",
       "      <td>...</td>\n",
       "    </tr>\n",
       "    <tr>\n",
       "      <th>16705</th>\n",
       "      <td>16705</td>\n",
       "      <td>235352</td>\n",
       "      <td>18 T. Käßemodel</td>\n",
       "      <td>https://cdn.sofifa.com/players/235/352/18_60.png</td>\n",
       "      <td>https://cdn.sofifa.com/flags/de.png</td>\n",
       "      <td>46</td>\n",
       "      <td>https://cdn.sofifa.com/teams/506/30.png</td>\n",
       "    </tr>\n",
       "    <tr>\n",
       "      <th>16706</th>\n",
       "      <td>16706</td>\n",
       "      <td>219735</td>\n",
       "      <td>15 T. Fletcher</td>\n",
       "      <td>https://cdn.sofifa.com/players/219/735/15_60.png</td>\n",
       "      <td>https://cdn.sofifa.com/flags/gb-eng.png</td>\n",
       "      <td>46</td>\n",
       "      <td>https://cdn.sofifa.com/teams/1933/30.png</td>\n",
       "    </tr>\n",
       "    <tr>\n",
       "      <th>16707</th>\n",
       "      <td>16707</td>\n",
       "      <td>220806</td>\n",
       "      <td>16 E. Redman</td>\n",
       "      <td>https://cdn.sofifa.com/players/220/806/16_60.png</td>\n",
       "      <td>https://cdn.sofifa.com/flags/gb-wls.png</td>\n",
       "      <td>44</td>\n",
       "      <td>https://cdn.sofifa.com/teams/112254/30.png</td>\n",
       "    </tr>\n",
       "    <tr>\n",
       "      <th>16708</th>\n",
       "      <td>16708</td>\n",
       "      <td>19334</td>\n",
       "      <td>10 I. Baraclough</td>\n",
       "      <td>https://cdn.sofifa.com/players/019/334/10_60.png</td>\n",
       "      <td>https://cdn.sofifa.com/flags/gb-eng.png</td>\n",
       "      <td>44</td>\n",
       "      <td>https://cdn.sofifa.com/flags/gb-eng.png</td>\n",
       "    </tr>\n",
       "    <tr>\n",
       "      <th>16709</th>\n",
       "      <td>16709</td>\n",
       "      <td>178453</td>\n",
       "      <td>07 A. Censori</td>\n",
       "      <td>https://cdn.sofifa.com/players/178/453/07_60.png</td>\n",
       "      <td>https://cdn.sofifa.com/flags/it.png</td>\n",
       "      <td>28</td>\n",
       "      <td>https://cdn.sofifa.com/teams/110907/30.png</td>\n",
       "    </tr>\n",
       "  </tbody>\n",
       "</table>\n",
       "<p>16710 rows × 7 columns</p>\n",
       "</div>"
      ],
      "text/plain": [
       "       index      Id               Name  \\\n",
       "0          0  158023           L. Messi   \n",
       "1          1  188545     R. Lewandowski   \n",
       "2          2  192985       K. De Bruyne   \n",
       "3          3   20801  Cristiano Ronaldo   \n",
       "4          4  190871          Neymar Jr   \n",
       "...      ...     ...                ...   \n",
       "16705  16705  235352    18 T. Käßemodel   \n",
       "16706  16706  219735     15 T. Fletcher   \n",
       "16707  16707  220806       16 E. Redman   \n",
       "16708  16708   19334   10 I. Baraclough   \n",
       "16709  16709  178453      07 A. Censori   \n",
       "\n",
       "                                            PlayerPhoto  \\\n",
       "0      https://cdn.sofifa.com/players/158/023/22_60.png   \n",
       "1      https://cdn.sofifa.com/players/188/545/22_60.png   \n",
       "2      https://cdn.sofifa.com/players/192/985/22_60.png   \n",
       "3      https://cdn.sofifa.com/players/020/801/22_60.png   \n",
       "4      https://cdn.sofifa.com/players/190/871/22_60.png   \n",
       "...                                                 ...   \n",
       "16705  https://cdn.sofifa.com/players/235/352/18_60.png   \n",
       "16706  https://cdn.sofifa.com/players/219/735/15_60.png   \n",
       "16707  https://cdn.sofifa.com/players/220/806/16_60.png   \n",
       "16708  https://cdn.sofifa.com/players/019/334/10_60.png   \n",
       "16709  https://cdn.sofifa.com/players/178/453/07_60.png   \n",
       "\n",
       "                                   CountryFlag  Overall  \\\n",
       "0          https://cdn.sofifa.com/flags/ar.png       93   \n",
       "1          https://cdn.sofifa.com/flags/pl.png       92   \n",
       "2          https://cdn.sofifa.com/flags/be.png       91   \n",
       "3          https://cdn.sofifa.com/flags/pt.png       91   \n",
       "4          https://cdn.sofifa.com/flags/br.png       91   \n",
       "...                                        ...      ...   \n",
       "16705      https://cdn.sofifa.com/flags/de.png       46   \n",
       "16706  https://cdn.sofifa.com/flags/gb-eng.png       46   \n",
       "16707  https://cdn.sofifa.com/flags/gb-wls.png       44   \n",
       "16708  https://cdn.sofifa.com/flags/gb-eng.png       44   \n",
       "16709      https://cdn.sofifa.com/flags/it.png       28   \n",
       "\n",
       "                                         ClubLogo  \n",
       "0          https://cdn.sofifa.com/teams/73/30.png  \n",
       "1          https://cdn.sofifa.com/teams/21/30.png  \n",
       "2          https://cdn.sofifa.com/teams/10/30.png  \n",
       "3          https://cdn.sofifa.com/teams/11/30.png  \n",
       "4          https://cdn.sofifa.com/teams/73/30.png  \n",
       "...                                           ...  \n",
       "16705     https://cdn.sofifa.com/teams/506/30.png  \n",
       "16706    https://cdn.sofifa.com/teams/1933/30.png  \n",
       "16707  https://cdn.sofifa.com/teams/112254/30.png  \n",
       "16708     https://cdn.sofifa.com/flags/gb-eng.png  \n",
       "16709  https://cdn.sofifa.com/teams/110907/30.png  \n",
       "\n",
       "[16710 rows x 7 columns]"
      ]
     },
     "execution_count": 4,
     "metadata": {},
     "output_type": "execute_result"
    }
   ],
   "source": [
    "df"
   ]
  },
  {
   "cell_type": "code",
   "execution_count": 5,
   "id": "0e450a57",
   "metadata": {},
   "outputs": [],
   "source": [
    "def download_and_save_image_from_url(url:str, filename:str, image_type:str) -> None:\n",
    "    r = requests.get(url, allow_redirects=True)\n",
    "    if image_type == \"PlayerPhoto\":\n",
    "        open(f'../static/images/PlayerPhoto/{filename}.png', 'wb').write(r.content)\n",
    "    if image_type == \"CountryFlag\":\n",
    "        open(f'../static/images/CountryFlag/{filename}.png', 'wb').write(r.content)\n",
    "    if image_type == \"ClubLogo\":\n",
    "        open(f'../static/images/ClubLogo/{filename}.png', 'wb').write(r.content)"
   ]
  },
  {
   "cell_type": "code",
   "execution_count": 6,
   "id": "3864ccec",
   "metadata": {},
   "outputs": [],
   "source": [
    "# url = 'https://cdn.sofifa.com/players/212/198/22_60.png'\n",
    "# download_and_save_image_from_url(url=url)"
   ]
  },
  {
   "cell_type": "code",
   "execution_count": 7,
   "id": "05796c63",
   "metadata": {},
   "outputs": [
    {
     "name": "stdout",
     "output_type": "stream",
     "text": [
      "158023 https://cdn.sofifa.com/players/158/023/22_60.png\n",
      "188545 https://cdn.sofifa.com/players/188/545/22_60.png\n",
      "192985 https://cdn.sofifa.com/players/192/985/22_60.png\n",
      "20801 https://cdn.sofifa.com/players/020/801/22_60.png\n",
      "190871 https://cdn.sofifa.com/players/190/871/22_60.png\n",
      "231747 https://cdn.sofifa.com/players/231/747/22_60.png\n",
      "200389 https://cdn.sofifa.com/players/200/389/22_60.png\n",
      "202126 https://cdn.sofifa.com/players/202/126/22_60.png\n",
      "215914 https://cdn.sofifa.com/players/215/914/22_60.png\n",
      "167495 https://cdn.sofifa.com/players/167/495/22_60.png\n",
      "192448 https://cdn.sofifa.com/players/192/448/22_60.png\n"
     ]
    }
   ],
   "source": [
    "for idx, row in df.iterrows():\n",
    "    print(row['Id'], row['PlayerPhoto'])\n",
    "    if idx == 10: break"
   ]
  },
  {
   "cell_type": "code",
   "execution_count": 8,
   "id": "3d62b971",
   "metadata": {},
   "outputs": [
    {
     "name": "stderr",
     "output_type": "stream",
     "text": [
      "1000it [06:57,  2.40it/s]\n"
     ]
    }
   ],
   "source": [
    "for idx, row in tqdm(df.iterrows()):\n",
    "#     print(row['Id'], row['PlayerPhoto'])\n",
    "    download_and_save_image_from_url(url=row['PlayerPhoto'], filename=row['Id'], image_type=\"PlayerPhoto\")\n",
    "    download_and_save_image_from_url(url=row['CountryFlag'], filename=row['Id'], image_type=\"CountryFlag\")\n",
    "    download_and_save_image_from_url(url=row['ClubLogo'], filename=row['Id'], image_type=\"ClubLogo\")\n",
    "    if idx == 1000: break"
   ]
  },
  {
   "cell_type": "code",
   "execution_count": 9,
   "id": "09bbf8e6",
   "metadata": {},
   "outputs": [
    {
     "data": {
      "text/plain": [
       "0    158023\n",
       "Name: Id, dtype: int64"
      ]
     },
     "execution_count": 9,
     "metadata": {},
     "output_type": "execute_result"
    }
   ],
   "source": [
    "df.iloc[[0]]['Id']"
   ]
  },
  {
   "cell_type": "code",
   "execution_count": null,
   "id": "16bedd34",
   "metadata": {},
   "outputs": [],
   "source": []
  }
 ],
 "metadata": {
  "kernelspec": {
   "display_name": "Python 3 (ipykernel)",
   "language": "python",
   "name": "python3"
  },
  "language_info": {
   "codemirror_mode": {
    "name": "ipython",
    "version": 3
   },
   "file_extension": ".py",
   "mimetype": "text/x-python",
   "name": "python",
   "nbconvert_exporter": "python",
   "pygments_lexer": "ipython3",
   "version": "3.9.9"
  }
 },
 "nbformat": 4,
 "nbformat_minor": 5
}
