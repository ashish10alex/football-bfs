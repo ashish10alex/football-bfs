{
 "cells": [
  {
   "cell_type": "code",
   "execution_count": 1,
   "metadata": {},
   "outputs": [],
   "source": [
    "import requests\n",
    "import time\n",
    "import os"
   ]
  },
  {
   "cell_type": "code",
   "execution_count": 2,
   "metadata": {},
   "outputs": [],
   "source": [
    "api_key = os.environ.get(\"FOOTBALL_API_KEY\")"
   ]
  },
  {
   "cell_type": "code",
   "execution_count": 5,
   "metadata": {},
   "outputs": [],
   "source": [
    "headers = {'X-Auth-Token': api_key}\n",
    "url = 'http://api.football-data.org/v2/teams'"
   ]
  },
  {
   "cell_type": "code",
   "execution_count": 6,
   "metadata": {},
   "outputs": [],
   "source": [
    "def get_data(url):\n",
    "    return requests.get(url, headers=headers).json()"
   ]
  },
  {
   "cell_type": "code",
   "execution_count": 7,
   "metadata": {},
   "outputs": [],
   "source": [
    "# Budesliga- http://api.football-data.org/v2/competitions/2002/teams\n",
    "# Dutch League - http://api.football-data.org/v2/competitions/2003/teams"
   ]
  },
  {
   "cell_type": "code",
   "execution_count": 13,
   "metadata": {},
   "outputs": [],
   "source": [
    "\n",
    "all_data = []\n",
    "for idx in range(1, 20):\n",
    "#     time.sleep(3)\n",
    "    data = get_data(f'http://api.football-data.org/v2//teams/{idx}')\n",
    "    all_data.append(data)"
   ]
  },
  {
   "cell_type": "code",
   "execution_count": 14,
   "metadata": {},
   "outputs": [
    {
     "data": {
      "text/plain": [
       "{'id': 2,\n",
       " 'area': {'id': 2088, 'name': 'Germany'},\n",
       " 'activeCompetitions': [{'id': 2011,\n",
       "   'area': {'id': 2088, 'name': 'Germany'},\n",
       "   'name': 'DFB-Pokal',\n",
       "   'code': 'DFB',\n",
       "   'plan': 'TIER_TWO',\n",
       "   'lastUpdated': '2021-04-07T23:59:55Z'}],\n",
       " 'name': 'TSG 1899 Hoffenheim',\n",
       " 'shortName': 'Hoffenheim',\n",
       " 'tla': 'TSG',\n",
       " 'crestUrl': 'https://crests.football-data.org/2.svg',\n",
       " 'address': 'Horrenberger Straße 58 Zuzenhausen 74939',\n",
       " 'phone': '+49 (07261) 94930',\n",
       " 'website': 'http://www.achtzehn99.de',\n",
       " 'email': 'info@achtzehn99.de',\n",
       " 'founded': 1921,\n",
       " 'clubColors': 'Blue / White',\n",
       " 'venue': 'PreZero Arena',\n",
       " 'squad': [],\n",
       " 'lastUpdated': '2021-04-12T13:04:29Z'}"
      ]
     },
     "execution_count": 14,
     "metadata": {},
     "output_type": "execute_result"
    }
   ],
   "source": [
    "all_data[1]"
   ]
  },
  {
   "cell_type": "code",
   "execution_count": 34,
   "metadata": {},
   "outputs": [
    {
     "data": {
      "text/plain": [
       "('1. FC Köln', 'https://crests.football-data.org/1.svg')"
      ]
     },
     "execution_count": 34,
     "metadata": {},
     "output_type": "execute_result"
    }
   ],
   "source": [
    "all_data[1]['name'], all_data[1]['crestUrl']"
   ]
  },
  {
   "cell_type": "code",
   "execution_count": null,
   "metadata": {},
   "outputs": [],
   "source": []
  }
 ],
 "metadata": {
  "kernelspec": {
   "display_name": "Python 3",
   "language": "python",
   "name": "python3"
  },
  "language_info": {
   "codemirror_mode": {
    "name": "ipython",
    "version": 3
   },
   "file_extension": ".py",
   "mimetype": "text/x-python",
   "name": "python",
   "nbconvert_exporter": "python",
   "pygments_lexer": "ipython3",
   "version": "3.7.10"
  }
 },
 "nbformat": 4,
 "nbformat_minor": 4
}
