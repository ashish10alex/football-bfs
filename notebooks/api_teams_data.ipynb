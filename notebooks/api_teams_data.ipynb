{
 "cells": [
  {
   "cell_type": "code",
   "execution_count": 1,
   "metadata": {},
   "outputs": [],
   "source": [
    "import requests\n",
    "import time\n",
    "import os"
   ]
  },
  {
   "cell_type": "code",
   "execution_count": 2,
   "metadata": {},
   "outputs": [],
   "source": [
    "api_key = os.environ.get(\"FOOTBALL_API_KEY\")"
   ]
  },
  {
   "cell_type": "code",
   "execution_count": 3,
   "metadata": {},
   "outputs": [],
   "source": [
    "headers = {'X-Auth-Token': api_key}\n",
    "url = 'http://api.football-data.org/v2/teams'"
   ]
  },
  {
   "cell_type": "code",
   "execution_count": 4,
   "metadata": {},
   "outputs": [],
   "source": [
    "def get_data(url):\n",
    "    return requests.get(url, headers=headers).json()"
   ]
  },
  {
   "cell_type": "code",
   "execution_count": 5,
   "metadata": {},
   "outputs": [],
   "source": [
    "# Budesliga- http://api.football-data.org/v2/competitions/2002/teams\n",
    "# Dutch League - http://api.football-data.org/v2/competitions/2003/teams"
   ]
  },
  {
   "cell_type": "code",
   "execution_count": 16,
   "metadata": {},
   "outputs": [],
   "source": [
    "# url = 'http://api.football-data.org/v2//teams'\n",
    "url = 'http://api.football-data.org/v2/competitions/2002/teams'\n",
    "teams_info =  get_data(url)"
   ]
  },
  {
   "cell_type": "code",
   "execution_count": 17,
   "metadata": {},
   "outputs": [
    {
     "name": "stdout",
     "output_type": "stream",
     "text": [
      "1. FC Köln : https://crests.football-data.org/1.svg\n",
      "TSG 1899 Hoffenheim : https://crests.football-data.org/2.svg\n",
      "Bayer 04 Leverkusen : https://crests.football-data.org/3.svg\n",
      "Borussia Dortmund : https://crests.football-data.org/4.svg\n",
      "FC Bayern München : https://crests.football-data.org/5.svg\n",
      "Hertha BSC : https://crests.football-data.org/9.svg\n",
      "VfB Stuttgart : https://crests.football-data.org/10.svg\n",
      "VfL Wolfsburg : https://crests.football-data.org/11.svg\n",
      "1. FSV Mainz 05 : https://crests.football-data.org/15.svg\n",
      "FC Augsburg : https://crests.football-data.org/16.svg\n",
      "SC Freiburg : https://crests.football-data.org/17.svg\n",
      "Borussia Mönchengladbach : https://crests.football-data.org/18.svg\n",
      "Eintracht Frankfurt : https://crests.football-data.org/19.svg\n",
      "SpVgg Greuther Fürth 1903 : https://crests.football-data.org/21.svg\n",
      "1. FC Union Berlin : https://crests.football-data.org/28.svg\n",
      "VfL Bochum 1848 : https://crests.football-data.org/36.svg\n",
      "Arminia Bielefeld : https://crests.football-data.org/38.svg\n",
      "RB Leipzig : https://crests.football-data.org/721.svg\n"
     ]
    }
   ],
   "source": [
    "for item in teams_info['teams']:\n",
    "    print(item['name'], ':', item['crestUrl'])"
   ]
  },
  {
   "cell_type": "code",
   "execution_count": 13,
   "metadata": {},
   "outputs": [],
   "source": [
    "\n",
    "all_data = []\n",
    "for idx in range(1, 20):\n",
    "#     time.sleep(3)\n",
    "    data = get_data(f'http://api.football-data.org/v2//teams/{idx}')\n",
    "    all_data.append(data)"
   ]
  },
  {
   "cell_type": "code",
   "execution_count": 14,
   "metadata": {},
   "outputs": [
    {
     "data": {
      "text/plain": [
       "{'id': 2,\n",
       " 'area': {'id': 2088, 'name': 'Germany'},\n",
       " 'activeCompetitions': [{'id': 2011,\n",
       "   'area': {'id': 2088, 'name': 'Germany'},\n",
       "   'name': 'DFB-Pokal',\n",
       "   'code': 'DFB',\n",
       "   'plan': 'TIER_TWO',\n",
       "   'lastUpdated': '2021-04-07T23:59:55Z'}],\n",
       " 'name': 'TSG 1899 Hoffenheim',\n",
       " 'shortName': 'Hoffenheim',\n",
       " 'tla': 'TSG',\n",
       " 'crestUrl': 'https://crests.football-data.org/2.svg',\n",
       " 'address': 'Horrenberger Straße 58 Zuzenhausen 74939',\n",
       " 'phone': '+49 (07261) 94930',\n",
       " 'website': 'http://www.achtzehn99.de',\n",
       " 'email': 'info@achtzehn99.de',\n",
       " 'founded': 1921,\n",
       " 'clubColors': 'Blue / White',\n",
       " 'venue': 'PreZero Arena',\n",
       " 'squad': [],\n",
       " 'lastUpdated': '2021-04-12T13:04:29Z'}"
      ]
     },
     "execution_count": 14,
     "metadata": {},
     "output_type": "execute_result"
    }
   ],
   "source": [
    "all_data[1]"
   ]
  },
  {
   "cell_type": "code",
   "execution_count": 34,
   "metadata": {},
   "outputs": [
    {
     "data": {
      "text/plain": [
       "('1. FC Köln', 'https://crests.football-data.org/1.svg')"
      ]
     },
     "execution_count": 34,
     "metadata": {},
     "output_type": "execute_result"
    }
   ],
   "source": [
    "all_data[1]['name'], all_data[1]['crestUrl']"
   ]
  },
  {
   "cell_type": "code",
   "execution_count": null,
   "metadata": {},
   "outputs": [],
   "source": []
  }
 ],
 "metadata": {
  "kernelspec": {
   "display_name": "Python 3",
   "language": "python",
   "name": "python3"
  },
  "language_info": {
   "codemirror_mode": {
    "name": "ipython",
    "version": 3
   },
   "file_extension": ".py",
   "mimetype": "text/x-python",
   "name": "python",
   "nbconvert_exporter": "python",
   "pygments_lexer": "ipython3",
   "version": "3.7.10"
  }
 },
 "nbformat": 4,
 "nbformat_minor": 4
}
