{
 "cells": [
  {
   "cell_type": "code",
   "execution_count": 77,
   "metadata": {},
   "outputs": [],
   "source": [
    "import requests\n",
    "import time\n",
    "import os"
   ]
  },
  {
   "cell_type": "code",
   "execution_count": 78,
   "metadata": {},
   "outputs": [],
   "source": [
    "api_key = '04ffe4d76b6daffdc0ca8879bf6241b3'"
   ]
  },
  {
   "cell_type": "code",
   "execution_count": 79,
   "metadata": {},
   "outputs": [],
   "source": [
    "headers = {'x-rapidapi-key': api_key}\n",
    "url = 'https://v3.football.api-sports.io/teams?league=78&season=2020'"
   ]
  },
  {
   "cell_type": "code",
   "execution_count": 80,
   "metadata": {},
   "outputs": [],
   "source": [
    "def get_data(url):\n",
    "    return requests.get(url, headers=headers).json()"
   ]
  },
  {
   "cell_type": "code",
   "execution_count": 81,
   "metadata": {},
   "outputs": [],
   "source": [
    "teams_info =  get_data(url)"
   ]
  },
  {
   "cell_type": "code",
   "execution_count": 82,
   "metadata": {},
   "outputs": [],
   "source": [
    "# teams_info"
   ]
  },
  {
   "cell_type": "code",
   "execution_count": 83,
   "metadata": {},
   "outputs": [
    {
     "data": {
      "text/plain": [
       "{'team': {'id': 157,\n",
       "  'name': 'Bayern Munich',\n",
       "  'country': 'Germany',\n",
       "  'founded': 1900,\n",
       "  'national': False,\n",
       "  'logo': 'https://media.api-sports.io/football/teams/157.png'},\n",
       " 'venue': {'id': 700,\n",
       "  'name': 'Allianz Arena',\n",
       "  'address': 'Werner-Heisenberg-Allee 25',\n",
       "  'city': 'München',\n",
       "  'capacity': 75000,\n",
       "  'surface': 'grass',\n",
       "  'image': 'https://media.api-sports.io/football/venues/700.png'}}"
      ]
     },
     "execution_count": 83,
     "metadata": {},
     "output_type": "execute_result"
    }
   ],
   "source": [
    "teams_info['response'][0]"
   ]
  },
  {
   "cell_type": "code",
   "execution_count": 84,
   "metadata": {},
   "outputs": [
    {
     "data": {
      "text/plain": [
       "'Bayern Munich'"
      ]
     },
     "execution_count": 84,
     "metadata": {},
     "output_type": "execute_result"
    }
   ],
   "source": [
    "teams_info['response'][0]['team']['name']"
   ]
  },
  {
   "cell_type": "code",
   "execution_count": 85,
   "metadata": {},
   "outputs": [
    {
     "data": {
      "text/plain": [
       "'https://media.api-sports.io/football/teams/157.png'"
      ]
     },
     "execution_count": 85,
     "metadata": {},
     "output_type": "execute_result"
    }
   ],
   "source": [
    "teams_info['response'][0]['team']['logo']"
   ]
  },
  {
   "cell_type": "code",
   "execution_count": 86,
   "metadata": {},
   "outputs": [],
   "source": [
    "logo_dict = {}"
   ]
  },
  {
   "cell_type": "code",
   "execution_count": 87,
   "metadata": {},
   "outputs": [],
   "source": [
    "for idx, item in enumerate(teams_info['response']):\n",
    "    logo_dict[teams_info['response'][idx]['team']['name']] = teams_info['response'][idx]['team']['logo']\n",
    "    "
   ]
  },
  {
   "cell_type": "code",
   "execution_count": 88,
   "metadata": {},
   "outputs": [
    {
     "data": {
      "text/plain": [
       "{'Bayern Munich': 'https://media.api-sports.io/football/teams/157.png',\n",
       " 'Hertha Berlin': 'https://media.api-sports.io/football/teams/159.png',\n",
       " 'SC Freiburg': 'https://media.api-sports.io/football/teams/160.png',\n",
       " 'VfL Wolfsburg': 'https://media.api-sports.io/football/teams/161.png',\n",
       " 'Werder Bremen': 'https://media.api-sports.io/football/teams/162.png',\n",
       " 'Borussia Monchengladbach': 'https://media.api-sports.io/football/teams/163.png',\n",
       " 'FSV Mainz 05': 'https://media.api-sports.io/football/teams/164.png',\n",
       " 'Borussia Dortmund': 'https://media.api-sports.io/football/teams/165.png',\n",
       " '1899 Hoffenheim': 'https://media.api-sports.io/football/teams/167.png',\n",
       " 'Bayer Leverkusen': 'https://media.api-sports.io/football/teams/168.png',\n",
       " 'Eintracht Frankfurt': 'https://media.api-sports.io/football/teams/169.png',\n",
       " 'FC Augsburg': 'https://media.api-sports.io/football/teams/170.png',\n",
       " 'VfB Stuttgart': 'https://media.api-sports.io/football/teams/172.png',\n",
       " 'RB Leipzig': 'https://media.api-sports.io/football/teams/173.png',\n",
       " 'FC Schalke 04': 'https://media.api-sports.io/football/teams/174.png',\n",
       " 'Union Berlin': 'https://media.api-sports.io/football/teams/182.png',\n",
       " 'Arminia Bielefeld': 'https://media.api-sports.io/football/teams/188.png',\n",
       " 'Holstein Kiel': 'https://media.api-sports.io/football/teams/191.png',\n",
       " 'FC Koln': 'https://media.api-sports.io/football/teams/192.png'}"
      ]
     },
     "execution_count": 88,
     "metadata": {},
     "output_type": "execute_result"
    }
   ],
   "source": [
    "logo_dict"
   ]
  },
  {
   "cell_type": "code",
   "execution_count": null,
   "metadata": {},
   "outputs": [],
   "source": []
  },
  {
   "cell_type": "code",
   "execution_count": null,
   "metadata": {},
   "outputs": [],
   "source": []
  }
 ],
 "metadata": {
  "kernelspec": {
   "display_name": "Python 3",
   "language": "python",
   "name": "python3"
  },
  "language_info": {
   "codemirror_mode": {
    "name": "ipython",
    "version": 3
   },
   "file_extension": ".py",
   "mimetype": "text/x-python",
   "name": "python",
   "nbconvert_exporter": "python",
   "pygments_lexer": "ipython3",
   "version": "3.7.10"
  }
 },
 "nbformat": 4,
 "nbformat_minor": 4
}
