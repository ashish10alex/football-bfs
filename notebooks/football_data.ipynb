{
 "cells": [
  {
   "cell_type": "code",
   "execution_count": 1,
   "metadata": {},
   "outputs": [],
   "source": [
    "import json\n",
    "import os\n",
    "\n",
    "import pandas as pd\n",
    "import requests\n",
    "from bs4 import BeautifulSoup\n",
    "from tqdm import tqdm\n",
    "import concurrent.futures"
   ]
  },
  {
   "cell_type": "code",
   "execution_count": 2,
   "metadata": {},
   "outputs": [],
   "source": [
    "# df = pd.read_csv('data/players_15.csv')\n",
    "df = pd.read_csv('../data/FIFA22_official_data.csv')"
   ]
  },
  {
   "cell_type": "code",
   "execution_count": 3,
   "metadata": {},
   "outputs": [],
   "source": [
    "df['player_url'] = 'https://sofifa.com/player/' + df['ID'].astype(str) + '/live'\n",
    "player_urls = list(df['player_url'])"
   ]
  },
  {
   "cell_type": "code",
   "execution_count": 4,
   "metadata": {},
   "outputs": [],
   "source": [
    "def get_teams_player_played_for(player_url, idx):\n",
    "    page_html = requests.get(player_url).content\n",
    "    page_html_soup = BeautifulSoup(page_html, 'html.parser')\n",
    "    page_html_soup = page_html_soup.find_all(class_='card double-spacing')\n",
    "    page_html_soup_new = page_html_soup[0].find_all(class_='col-name text-ellipsis')\n",
    "    player_teams = set()\n",
    "    for item in page_html_soup_new:\n",
    "        if item.find_all('a') != []:    \n",
    "            team = item.find_all('a')[0].text\n",
    "            player_teams.add(team)\n",
    "    return df['Name'][idx],  list(player_teams)"
   ]
  },
  {
   "cell_type": "code",
   "execution_count": 5,
   "metadata": {},
   "outputs": [
    {
     "data": {
      "text/plain": [
       "('Marcos Llorente',\n",
       " [' Atlético de Madrid',\n",
       "  ' Deportivo Alavés',\n",
       "  ' Real Madrid CF',\n",
       "  ' Real Madrid Castilla'])"
      ]
     },
     "execution_count": 5,
     "metadata": {},
     "output_type": "execute_result"
    }
   ],
   "source": [
    "# test get_teams_player_played_for function\n",
    "idx = 11\n",
    "result= get_teams_player_played_for(df['player_url'][idx], idx)\n",
    "result"
   ]
  },
  {
   "cell_type": "code",
   "execution_count": 6,
   "metadata": {},
   "outputs": [
    {
     "name": "stderr",
     "output_type": "stream",
     "text": [
      "16710it [00:00, 43830.20it/s]\n"
     ]
    }
   ],
   "source": [
    "#parallel computation using threads\n",
    "with concurrent.futures.ThreadPoolExecutor() as executor:\n",
    "    results = []\n",
    "    for idx, url in tqdm(enumerate(player_urls[:])):\n",
    "        results.append(executor.submit(get_teams_player_played_for, url, idx))\n",
    "    final_results = []\n",
    "    for f in concurrent.futures.as_completed(results):\n",
    "        final_results.append(f.result())"
   ]
  },
  {
   "cell_type": "code",
   "execution_count": 7,
   "metadata": {},
   "outputs": [],
   "source": [
    "df_small = pd.DataFrame(columns=['player', 'teams'])"
   ]
  },
  {
   "cell_type": "code",
   "execution_count": 8,
   "metadata": {},
   "outputs": [],
   "source": [
    "player_names = []\n",
    "player_teams = []\n",
    "for data in final_results:\n",
    "    player_name, teams = data\n",
    "    player_names.append(player_name)\n",
    "    player_teams.append(teams)\n",
    "\n",
    "df_small['player'] = player_names\n",
    "df_small['teams']  = player_teams\n",
    "df_small.to_pickle('../data/teams_player_has_played_for.pkl')\n",
    "df_small.to_csv('../data/dteams_player_has_played_for.csv')"
   ]
  },
  {
   "cell_type": "code",
   "execution_count": null,
   "metadata": {},
   "outputs": [],
   "source": []
  },
  {
   "cell_type": "code",
   "execution_count": null,
   "metadata": {},
   "outputs": [],
   "source": []
  },
  {
   "cell_type": "code",
   "execution_count": null,
   "metadata": {},
   "outputs": [],
   "source": []
  }
 ],
 "metadata": {
  "kernelspec": {
   "display_name": "Python 3 (ipykernel)",
   "language": "python",
   "name": "python3"
  },
  "language_info": {
   "codemirror_mode": {
    "name": "ipython",
    "version": 3
   },
   "file_extension": ".py",
   "mimetype": "text/x-python",
   "name": "python",
   "nbconvert_exporter": "python",
   "pygments_lexer": "ipython3",
   "version": "3.9.9"
  }
 },
 "nbformat": 4,
 "nbformat_minor": 4
}
