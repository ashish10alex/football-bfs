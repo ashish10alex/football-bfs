{
 "cells": [
  {
   "cell_type": "code",
   "execution_count": 1,
   "metadata": {},
   "outputs": [],
   "source": [
    "import requests\n",
    "import time\n",
    "import os"
   ]
  },
  {
   "cell_type": "code",
   "execution_count": 3,
   "metadata": {},
   "outputs": [],
   "source": [
    "api_key = '04ffe4d76b6daffdc0ca8879bf6241b3'"
   ]
  },
  {
   "cell_type": "code",
   "execution_count": 9,
   "metadata": {},
   "outputs": [],
   "source": [
    "headers = {'x-rapidapi-key': api_key}\n",
    "url = 'https://v3.football.api-sports.io/players?league=140&season=2020&team=529'"
   ]
  },
  {
   "cell_type": "code",
   "execution_count": 10,
   "metadata": {},
   "outputs": [],
   "source": [
    "def get_data(url):\n",
    "    return requests.get(url, headers=headers).json()"
   ]
  },
  {
   "cell_type": "code",
   "execution_count": 11,
   "metadata": {},
   "outputs": [],
   "source": [
    "teams_info =  get_data(url)"
   ]
  },
  {
   "cell_type": "code",
   "execution_count": 12,
   "metadata": {},
   "outputs": [],
   "source": [
    "# teams_info"
   ]
  },
  {
   "cell_type": "code",
   "execution_count": 17,
   "metadata": {},
   "outputs": [
    {
     "data": {
      "text/plain": [
       "'Iñaki Peña'"
      ]
     },
     "execution_count": 17,
     "metadata": {},
     "output_type": "execute_result"
    }
   ],
   "source": [
    "teams_info['response'][0]['player']['name']"
   ]
  },
  {
   "cell_type": "code",
   "execution_count": 18,
   "metadata": {},
   "outputs": [
    {
     "data": {
      "text/plain": [
       "'https://media.api-sports.io/football/players/126.png'"
      ]
     },
     "execution_count": 18,
     "metadata": {},
     "output_type": "execute_result"
    }
   ],
   "source": [
    "teams_info['response'][0]['player']['photo']"
   ]
  },
  {
   "cell_type": "code",
   "execution_count": 19,
   "metadata": {},
   "outputs": [],
   "source": [
    "photo_dict = {}"
   ]
  },
  {
   "cell_type": "code",
   "execution_count": 20,
   "metadata": {},
   "outputs": [],
   "source": [
    "for idx, item in enumerate(teams_info['response']):\n",
    "    photo_dict[teams_info['response'][idx]['player']['name']] = teams_info['response'][idx]['player']['photo']\n",
    "    "
   ]
  },
  {
   "cell_type": "code",
   "execution_count": 22,
   "metadata": {},
   "outputs": [
    {
     "data": {
      "text/plain": [
       "{'Iñaki Peña': 'https://media.api-sports.io/football/players/126.png',\n",
       " 'Arnau Tenas': 'https://media.api-sports.io/football/players/162473.png',\n",
       " 'S. Ramos': 'https://media.api-sports.io/football/players/129880.png',\n",
       " 'Álex Collado': 'https://media.api-sports.io/football/players/146.png',\n",
       " 'Trincão': 'https://media.api-sports.io/football/players/41112.png',\n",
       " 'Junior Firpo': 'https://media.api-sports.io/football/players/1564.png',\n",
       " 'Carles Aleñá': 'https://media.api-sports.io/football/players/143.png',\n",
       " 'Ilaix Moriba': 'https://media.api-sports.io/football/players/162123.png',\n",
       " 'L. Messi': 'https://media.api-sports.io/football/players/154.png',\n",
       " 'A. Vidal': 'https://media.api-sports.io/football/players/151.png',\n",
       " 'K. De La Fuente': 'https://media.api-sports.io/football/players/161929.png',\n",
       " 'Neto': 'https://media.api-sports.io/football/players/912.png',\n",
       " 'M. ter Stegen': 'https://media.api-sports.io/football/players/127.png',\n",
       " 'Jordi Alba': 'https://media.api-sports.io/football/players/128.png',\n",
       " 'R. Araújo': 'https://media.api-sports.io/football/players/101814.png',\n",
       " 'S. Dest': 'https://media.api-sports.io/football/players/38735.png',\n",
       " 'C. Lenglet': 'https://media.api-sports.io/football/players/133.png',\n",
       " 'Óscar Mingueza': 'https://media.api-sports.io/football/players/162712.png',\n",
       " 'Piqué': 'https://media.api-sports.io/football/players/136.png',\n",
       " 'Sergi Roberto': 'https://media.api-sports.io/football/players/137.png'}"
      ]
     },
     "execution_count": 22,
     "metadata": {},
     "output_type": "execute_result"
    }
   ],
   "source": [
    "photo_dict"
   ]
  },
  {
   "cell_type": "code",
   "execution_count": null,
   "metadata": {},
   "outputs": [],
   "source": []
  },
  {
   "cell_type": "code",
   "execution_count": 26,
   "metadata": {},
   "outputs": [],
   "source": [
    "url_teams = 'https://v3.football.api-sports.io/teams?league=140&season=2020'"
   ]
  },
  {
   "cell_type": "code",
   "execution_count": 27,
   "metadata": {},
   "outputs": [],
   "source": [
    "teams_data = get_data(url_teams)"
   ]
  },
  {
   "cell_type": "code",
   "execution_count": 36,
   "metadata": {},
   "outputs": [
    {
     "data": {
      "text/plain": [
       "{'id': 530,\n",
       " 'name': 'Atletico Madrid',\n",
       " 'country': 'Spain',\n",
       " 'founded': 1903,\n",
       " 'national': False,\n",
       " 'logo': 'https://media.api-sports.io/football/teams/530.png'}"
      ]
     },
     "execution_count": 36,
     "metadata": {},
     "output_type": "execute_result"
    }
   ],
   "source": [
    "teams_data['response'][1]['team']"
   ]
  },
  {
   "cell_type": "code",
   "execution_count": 45,
   "metadata": {},
   "outputs": [],
   "source": [
    "id_dict ={}"
   ]
  },
  {
   "cell_type": "code",
   "execution_count": 46,
   "metadata": {},
   "outputs": [],
   "source": [
    "for i in range(len(teams_data['response'])):\n",
    "    id_dict[teams_data['response'][i]['team']['name']] = teams_data['response'][i]['team']['id']\n"
   ]
  },
  {
   "cell_type": "code",
   "execution_count": 47,
   "metadata": {},
   "outputs": [
    {
     "data": {
      "text/plain": [
       "{'Barcelona': 529,\n",
       " 'Atletico Madrid': 530,\n",
       " 'Athletic Club': 531,\n",
       " 'Valencia': 532,\n",
       " 'Villarreal': 533,\n",
       " 'Sevilla': 536,\n",
       " 'Celta Vigo': 538,\n",
       " 'Levante': 539,\n",
       " 'Real Madrid': 541,\n",
       " 'Alaves': 542,\n",
       " 'Real Betis': 543,\n",
       " 'Eibar': 545,\n",
       " 'Getafe': 546,\n",
       " 'Real Sociedad': 548,\n",
       " 'Granada CF': 715,\n",
       " 'Valladolid': 720,\n",
       " 'Cadiz': 724,\n",
       " 'Huesca': 726,\n",
       " 'Osasuna': 727,\n",
       " 'Elche': 797}"
      ]
     },
     "execution_count": 47,
     "metadata": {},
     "output_type": "execute_result"
    }
   ],
   "source": [
    "id_dict"
   ]
  },
  {
   "cell_type": "code",
   "execution_count": 49,
   "metadata": {},
   "outputs": [],
   "source": [
    "for ids in id_dict.values():\n",
    "    url = f'https://v3.football.api-sports.io/players?league=140&season=2020&team={ids}'\n",
    "    teams_info =  get_data(url)\n",
    "    photo_dict = {}\n",
    "    for idx, item in enumerate(teams_info['response']):\n",
    "        photo_dict[teams_info['response'][idx]['player']['name']] = teams_info['response'][idx]['player']['photo']"
   ]
  },
  {
   "cell_type": "code",
   "execution_count": 50,
   "metadata": {},
   "outputs": [
    {
     "data": {
      "text/plain": [
       "{}"
      ]
     },
     "execution_count": 50,
     "metadata": {},
     "output_type": "execute_result"
    }
   ],
   "source": [
    "photo_dict"
   ]
  },
  {
   "cell_type": "code",
   "execution_count": 51,
   "metadata": {},
   "outputs": [
    {
     "data": {
      "text/plain": [
       "{'get': 'players',\n",
       " 'parameters': {'league': '140', 'season': '2020', 'team': '797'},\n",
       " 'errors': {'rateLimit': 'Too many requests. Your rate limit is 10 requests per minute.'},\n",
       " 'results': 0,\n",
       " 'paging': {'current': 1, 'total': 1},\n",
       " 'response': []}"
      ]
     },
     "execution_count": 51,
     "metadata": {},
     "output_type": "execute_result"
    }
   ],
   "source": [
    "teams_info"
   ]
  },
  {
   "cell_type": "code",
   "execution_count": 74,
   "metadata": {},
   "outputs": [],
   "source": [
    "leagues_dict ={\n",
    "    39: 'English',\n",
    "    140: 'Spanish', \n",
    "    61: 'French',\n",
    "    135: 'Italian',\n",
    "    88: 'Dutch',\n",
    "    78: 'German',\n",
    "}\n",
    "# Preimer leagure - 39\n",
    "# La liga - 140\n",
    "# French League - 61\n",
    "# Italian league - 135\n",
    "# Dutch League - 88\n",
    "# German League - 78\n"
   ]
  },
  {
   "cell_type": "code",
   "execution_count": null,
   "metadata": {},
   "outputs": [],
   "source": []
  },
  {
   "cell_type": "code",
   "execution_count": 54,
   "metadata": {},
   "outputs": [],
   "source": [
    "id_dict ={}"
   ]
  },
  {
   "cell_type": "code",
   "execution_count": 55,
   "metadata": {},
   "outputs": [],
   "source": [
    "for _id in leagues_dict.keys():\n",
    "    url_teams = f'https://v3.football.api-sports.io/teams?league={_id}&season=2020'\n",
    "    teams_data = get_data(url_teams)\n",
    "    for i in range(len(teams_data['response'])):\n",
    "        id_dict[teams_data['response'][i]['team']['name']] = teams_data['response'][i]['team']['id']"
   ]
  },
  {
   "cell_type": "code",
   "execution_count": 62,
   "metadata": {},
   "outputs": [],
   "source": [
    "# id_dict"
   ]
  },
  {
   "cell_type": "code",
   "execution_count": 73,
   "metadata": {},
   "outputs": [
    {
     "data": {
      "text/plain": [
       "{'get': 'teams',\n",
       " 'parameters': {'league': '78', 'season': '2020'},\n",
       " 'errors': [],\n",
       " 'results': 19,\n",
       " 'paging': {'current': 1, 'total': 1},\n",
       " 'response': [{'team': {'id': 157,\n",
       "    'name': 'Bayern Munich',\n",
       "    'country': 'Germany',\n",
       "    'founded': 1900,\n",
       "    'national': False,\n",
       "    'logo': 'https://media.api-sports.io/football/teams/157.png'},\n",
       "   'venue': {'id': 700,\n",
       "    'name': 'Allianz Arena',\n",
       "    'address': 'Werner-Heisenberg-Allee 25',\n",
       "    'city': 'München',\n",
       "    'capacity': 75000,\n",
       "    'surface': 'grass',\n",
       "    'image': 'https://media.api-sports.io/football/venues/700.png'}},\n",
       "  {'team': {'id': 159,\n",
       "    'name': 'Hertha Berlin',\n",
       "    'country': 'Germany',\n",
       "    'founded': 1892,\n",
       "    'national': False,\n",
       "    'logo': 'https://media.api-sports.io/football/teams/159.png'},\n",
       "   'venue': {'id': 694,\n",
       "    'name': 'Olympiastadion Berlin',\n",
       "    'address': 'Olympischer Platz 3',\n",
       "    'city': 'Berlin',\n",
       "    'capacity': 77116,\n",
       "    'surface': 'grass',\n",
       "    'image': 'https://media.api-sports.io/football/venues/694.png'}},\n",
       "  {'team': {'id': 160,\n",
       "    'name': 'SC Freiburg',\n",
       "    'country': 'Germany',\n",
       "    'founded': 1904,\n",
       "    'national': False,\n",
       "    'logo': 'https://media.api-sports.io/football/teams/160.png'},\n",
       "   'venue': {'id': 716,\n",
       "    'name': 'Schwarzwald-Stadion',\n",
       "    'address': 'Schwarzwaldstraße 193',\n",
       "    'city': 'Freiburg im Breisgau',\n",
       "    'capacity': 25000,\n",
       "    'surface': 'grass',\n",
       "    'image': 'https://media.api-sports.io/football/venues/716.png'}},\n",
       "  {'team': {'id': 161,\n",
       "    'name': 'VfL Wolfsburg',\n",
       "    'country': 'Germany',\n",
       "    'founded': 1945,\n",
       "    'national': False,\n",
       "    'logo': 'https://media.api-sports.io/football/teams/161.png'},\n",
       "   'venue': {'id': 752,\n",
       "    'name': 'VOLKSWAGEN ARENA',\n",
       "    'address': 'In den Allerwiesen 1',\n",
       "    'city': 'Wolfsburg',\n",
       "    'capacity': 30000,\n",
       "    'surface': 'grass',\n",
       "    'image': 'https://media.api-sports.io/football/venues/752.png'}},\n",
       "  {'team': {'id': 162,\n",
       "    'name': 'Werder Bremen',\n",
       "    'country': 'Germany',\n",
       "    'founded': 1899,\n",
       "    'national': False,\n",
       "    'logo': 'https://media.api-sports.io/football/teams/162.png'},\n",
       "   'venue': {'id': 755,\n",
       "    'name': 'wohninvest WESERSTADION',\n",
       "    'address': 'Franz-Böhmert-Straße 1c',\n",
       "    'city': 'Bremen',\n",
       "    'capacity': 42358,\n",
       "    'surface': 'grass',\n",
       "    'image': 'https://media.api-sports.io/football/venues/755.png'}},\n",
       "  {'team': {'id': 163,\n",
       "    'name': 'Borussia Monchengladbach',\n",
       "    'country': 'Germany',\n",
       "    'founded': 1900,\n",
       "    'national': False,\n",
       "    'logo': 'https://media.api-sports.io/football/teams/163.png'},\n",
       "   'venue': {'id': 703,\n",
       "    'name': 'Stadion im BORUSSIA-PARK',\n",
       "    'address': 'Hennes-Weisweiler-Allee 1',\n",
       "    'city': 'Mönchengladbach',\n",
       "    'capacity': 54057,\n",
       "    'surface': 'grass',\n",
       "    'image': 'https://media.api-sports.io/football/venues/703.png'}},\n",
       "  {'team': {'id': 164,\n",
       "    'name': 'FSV Mainz 05',\n",
       "    'country': 'Germany',\n",
       "    'founded': 1905,\n",
       "    'national': False,\n",
       "    'logo': 'https://media.api-sports.io/football/teams/164.png'},\n",
       "   'venue': {'id': 717,\n",
       "    'name': 'OPEL ARENA',\n",
       "    'address': 'Eugen-Salomon-Straße 1',\n",
       "    'city': 'Mainz',\n",
       "    'capacity': 34034,\n",
       "    'surface': 'grass',\n",
       "    'image': 'https://media.api-sports.io/football/venues/717.png'}},\n",
       "  {'team': {'id': 165,\n",
       "    'name': 'Borussia Dortmund',\n",
       "    'country': 'Germany',\n",
       "    'founded': 1909,\n",
       "    'national': False,\n",
       "    'logo': 'https://media.api-sports.io/football/teams/165.png'},\n",
       "   'venue': {'id': 702,\n",
       "    'name': 'Signal-Iduna-Park',\n",
       "    'address': 'Strobelalle 50',\n",
       "    'city': 'Dortmund',\n",
       "    'capacity': 81365,\n",
       "    'surface': 'grass',\n",
       "    'image': 'https://media.api-sports.io/football/venues/702.png'}},\n",
       "  {'team': {'id': 167,\n",
       "    'name': '1899 Hoffenheim',\n",
       "    'country': 'Germany',\n",
       "    'founded': 1899,\n",
       "    'national': False,\n",
       "    'logo': 'https://media.api-sports.io/football/teams/167.png'},\n",
       "   'venue': {'id': 724,\n",
       "    'name': 'PreZero Arena',\n",
       "    'address': 'Dietmar-Hopp-Straße 1',\n",
       "    'city': 'Sinsheim',\n",
       "    'capacity': 30164,\n",
       "    'surface': 'grass',\n",
       "    'image': 'https://media.api-sports.io/football/venues/724.png'}},\n",
       "  {'team': {'id': 168,\n",
       "    'name': 'Bayer Leverkusen',\n",
       "    'country': 'Germany',\n",
       "    'founded': 1904,\n",
       "    'national': False,\n",
       "    'logo': 'https://media.api-sports.io/football/teams/168.png'},\n",
       "   'venue': {'id': 699,\n",
       "    'name': 'BayArena',\n",
       "    'address': 'Bismarckstr. 122-124',\n",
       "    'city': 'Leverkusen',\n",
       "    'capacity': 30210,\n",
       "    'surface': 'grass',\n",
       "    'image': 'https://media.api-sports.io/football/venues/699.png'}},\n",
       "  {'team': {'id': 169,\n",
       "    'name': 'Eintracht Frankfurt',\n",
       "    'country': 'Germany',\n",
       "    'founded': 1899,\n",
       "    'national': False,\n",
       "    'logo': 'https://media.api-sports.io/football/teams/169.png'},\n",
       "   'venue': {'id': 10491,\n",
       "    'name': 'Deutsche Bank Park',\n",
       "    'address': 'Mörfelder Landstr. 362',\n",
       "    'city': 'Frankfurt am Main',\n",
       "    'capacity': 52300,\n",
       "    'surface': 'grass',\n",
       "    'image': 'https://media.api-sports.io/football/venues/10491.png'}},\n",
       "  {'team': {'id': 170,\n",
       "    'name': 'FC Augsburg',\n",
       "    'country': 'Germany',\n",
       "    'founded': 1907,\n",
       "    'national': False,\n",
       "    'logo': 'https://media.api-sports.io/football/teams/170.png'},\n",
       "   'venue': {'id': 698,\n",
       "    'name': 'WWK Arena',\n",
       "    'address': 'Bürgermeister Ulrich-Straße 90',\n",
       "    'city': 'Augsburg',\n",
       "    'capacity': 30662,\n",
       "    'surface': 'grass',\n",
       "    'image': 'https://media.api-sports.io/football/venues/698.png'}},\n",
       "  {'team': {'id': 172,\n",
       "    'name': 'VfB Stuttgart',\n",
       "    'country': 'Germany',\n",
       "    'founded': 1893,\n",
       "    'national': False,\n",
       "    'logo': 'https://media.api-sports.io/football/teams/172.png'},\n",
       "   'venue': {'id': 750,\n",
       "    'name': 'Mercedes-Benz-Arena',\n",
       "    'address': 'Mercedesstrasse 87',\n",
       "    'city': 'Stuttgart',\n",
       "    'capacity': 60469,\n",
       "    'surface': 'grass',\n",
       "    'image': 'https://media.api-sports.io/football/venues/750.png'}},\n",
       "  {'team': {'id': 173,\n",
       "    'name': 'RB Leipzig',\n",
       "    'country': 'Germany',\n",
       "    'founded': 2009,\n",
       "    'national': False,\n",
       "    'logo': 'https://media.api-sports.io/football/teams/173.png'},\n",
       "   'venue': {'id': 738,\n",
       "    'name': 'Red Bull Arena',\n",
       "    'address': 'Am Sportforum 3',\n",
       "    'city': 'Leipzig',\n",
       "    'capacity': 44345,\n",
       "    'surface': 'grass',\n",
       "    'image': 'https://media.api-sports.io/football/venues/738.png'}},\n",
       "  {'team': {'id': 174,\n",
       "    'name': 'FC Schalke 04',\n",
       "    'country': 'Germany',\n",
       "    'founded': 1904,\n",
       "    'national': False,\n",
       "    'logo': 'https://media.api-sports.io/football/teams/174.png'},\n",
       "   'venue': {'id': 741,\n",
       "    'name': 'VELTINS-Arena',\n",
       "    'address': 'Arenaring 1',\n",
       "    'city': 'Gelsenkirchen',\n",
       "    'capacity': 62271,\n",
       "    'surface': 'grass',\n",
       "    'image': 'https://media.api-sports.io/football/venues/741.png'}},\n",
       "  {'team': {'id': 182,\n",
       "    'name': 'Union Berlin',\n",
       "    'country': 'Germany',\n",
       "    'founded': 1966,\n",
       "    'national': False,\n",
       "    'logo': 'https://media.api-sports.io/football/teams/182.png'},\n",
       "   'venue': {'id': 748,\n",
       "    'name': 'Stadion An der Alten Försterei',\n",
       "    'address': 'Hämmerlingstraße 80-88, Köpenick',\n",
       "    'city': 'Berlin',\n",
       "    'capacity': 22467,\n",
       "    'surface': 'grass',\n",
       "    'image': 'https://media.api-sports.io/football/venues/748.png'}},\n",
       "  {'team': {'id': 188,\n",
       "    'name': 'Arminia Bielefeld',\n",
       "    'country': 'Germany',\n",
       "    'founded': 1905,\n",
       "    'national': False,\n",
       "    'logo': 'https://media.api-sports.io/football/teams/188.png'},\n",
       "   'venue': {'id': 697,\n",
       "    'name': 'SchücoArena',\n",
       "    'address': 'Melanchthonstr. 31a',\n",
       "    'city': 'Bielefeld',\n",
       "    'capacity': 27300,\n",
       "    'surface': 'grass',\n",
       "    'image': 'https://media.api-sports.io/football/venues/697.png'}},\n",
       "  {'team': {'id': 191,\n",
       "    'name': 'Holstein Kiel',\n",
       "    'country': 'Germany',\n",
       "    'founded': 1900,\n",
       "    'national': False,\n",
       "    'logo': 'https://media.api-sports.io/football/teams/191.png'},\n",
       "   'venue': {'id': 725,\n",
       "    'name': 'Holstein-Stadion',\n",
       "    'address': 'Westring 501',\n",
       "    'city': 'Kiel',\n",
       "    'capacity': 15034,\n",
       "    'surface': 'grass',\n",
       "    'image': 'https://media.api-sports.io/football/venues/725.png'}},\n",
       "  {'team': {'id': 192,\n",
       "    'name': 'FC Koln',\n",
       "    'country': 'Germany',\n",
       "    'founded': 1948,\n",
       "    'national': False,\n",
       "    'logo': 'https://media.api-sports.io/football/teams/192.png'},\n",
       "   'venue': {'id': 731,\n",
       "    'name': 'RheinEnergieStadion',\n",
       "    'address': 'Aachener Str. 999',\n",
       "    'city': 'Köln',\n",
       "    'capacity': 50076,\n",
       "    'surface': 'grass',\n",
       "    'image': 'https://media.api-sports.io/football/venues/731.png'}}]}"
      ]
     },
     "execution_count": 73,
     "metadata": {},
     "output_type": "execute_result"
    }
   ],
   "source": [
    "teams_data"
   ]
  },
  {
   "cell_type": "code",
   "execution_count": 63,
   "metadata": {},
   "outputs": [],
   "source": [
    "photo_dict = {}"
   ]
  },
  {
   "cell_type": "code",
   "execution_count": 70,
   "metadata": {},
   "outputs": [
    {
     "name": "stdout",
     "output_type": "stream",
     "text": [
      "33\n"
     ]
    }
   ],
   "source": [
    "\n",
    "for team, _id in id_dict.items():\n",
    "    print(_id)\n",
    "    url = f'https://v3.football.api-sports.io/players?league=140&season=2020&team={_id}'\n",
    "    teams_info =  get_data(url)\n",
    "    for idx, item in enumerate(teams_info['response']):\n",
    "        photo_dict[teams_info['response'][idx]['player']['name']] = teams_info['response'][idx]['player']['photo']\n",
    "        break\n",
    "    break\n",
    "    "
   ]
  },
  {
   "cell_type": "code",
   "execution_count": 75,
   "metadata": {},
   "outputs": [
    {
     "data": {
      "text/plain": [
       "{}"
      ]
     },
     "execution_count": 75,
     "metadata": {},
     "output_type": "execute_result"
    }
   ],
   "source": [
    "photo_dict"
   ]
  },
  {
   "cell_type": "code",
   "execution_count": 72,
   "metadata": {},
   "outputs": [
    {
     "data": {
      "text/plain": [
       "{'get': 'players',\n",
       " 'parameters': {'league': '140', 'season': '2020', 'team': '33'},\n",
       " 'errors': [],\n",
       " 'results': 0,\n",
       " 'paging': {'current': 1, 'total': 1},\n",
       " 'response': []}"
      ]
     },
     "execution_count": 72,
     "metadata": {},
     "output_type": "execute_result"
    }
   ],
   "source": [
    "teams_info"
   ]
  },
  {
   "cell_type": "code",
   "execution_count": null,
   "metadata": {},
   "outputs": [],
   "source": []
  }
 ],
 "metadata": {
  "kernelspec": {
   "display_name": "Python 3",
   "language": "python",
   "name": "python3"
  },
  "language_info": {
   "codemirror_mode": {
    "name": "ipython",
    "version": 3
   },
   "file_extension": ".py",
   "mimetype": "text/x-python",
   "name": "python",
   "nbconvert_exporter": "python",
   "pygments_lexer": "ipython3",
   "version": "3.7.10"
  }
 },
 "nbformat": 4,
 "nbformat_minor": 4
}
